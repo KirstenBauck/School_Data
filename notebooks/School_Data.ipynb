{
 "cells": [
  {
   "cell_type": "markdown",
   "id": "2647a070",
   "metadata": {},
   "source": [
    "# College/Trade School Locations vs Population Density by County\n",
    "\n",
    "### Data\n",
    "* To access College/Trade School Locations data as a CSV go [here](https://catalog.data.gov/dataset/postsecondary-school-locations-current). This data is for the current year (2021). To access previous years data go [here](https://catalog.data.gov/dataset?q=Postsecondary+School+Locations&sort=views_recent+desc&as_sfid=AAAAAAX9ZMkaz7eiQfOekNnbhdEYJ_8itjie6jAn8b2wxPtQNnjA1ZHKpgjP79FznBsyOcfT4vEF0CTn_bwNzuzZdmMbiIMGPh8wZhAH0Va2HUsHBVOHADouCXxnhMUClXtNRlk%3D&as_fid=dc61e39c8c5d32aa7c8ccced6c5d89d606bd0f3d&ext_location=Flagstaff%2C+AZ+%2886001%29&ext_bbox=-112.1337%2C34.9758%2C-111.2645%2C36.0102&ext_prev_extent=-114.2578125%2C33.65120829920497%2C-109.1162109375%2C37.23032838760387)\n",
    "* To access population data by county as a CSV go [here](https://worldpopulationreview.com/us-counties/states/az). This data is for the current year (2021).\n",
    "\n",
    "### Programs Used\n",
    "* Creating [Choropleth Maps](https://plotly.com/python/choropleth-maps/) using Plotly to create base map\n",
    "* Using [ScatterGeo](https://plotly.com/python/reference/scattergeo/) from Plotly to layer maps\n",
    "* Using urlopen from [urllib.request](https://docs.python.org/3/library/urllib.request.html) to load county fips\n",
    "* Reading csv files using [pandas](https://pandas.pydata.org/pandas-docs/stable/reference/api/pandas.read_csv.html)\n",
    "\n",
    "### Other\n",
    "* What are [FIPS](https://en.wikipedia.org/wiki/Federal_Information_Processing_Standards) anyways?"
   ]
  },
  {
   "cell_type": "code",
   "execution_count": null,
   "id": "fa476458",
   "metadata": {},
   "outputs": [],
   "source": [
    "import csv\n",
    "import os\n",
    "import pandas as pd\n",
    "from urllib.request import urlopen\n",
    "import json\n",
    "import plotly.express as px\n",
    "import plotly.graph_objects as go"
   ]
  },
  {
   "cell_type": "code",
   "execution_count": null,
   "id": "4f8eb345",
   "metadata": {},
   "outputs": [],
   "source": [
    "school_file = os.path.join('data', 'Postsecondary_School_Locations_2021.csv')\n",
    "population_file = os.path.join('data', 'AZ_Population_Density_2021.csv')"
   ]
  },
  {
   "cell_type": "code",
   "execution_count": null,
   "id": "20736185",
   "metadata": {},
   "outputs": [],
   "source": [
    "df = pd.read_csv(school_file)\n",
    "arizona_only = df[df[\"STATE\"] == \"AZ\"]"
   ]
  },
  {
   "cell_type": "code",
   "execution_count": null,
   "id": "11a59027",
   "metadata": {},
   "outputs": [],
   "source": [
    "population_df = pd.read_csv(population_file)"
   ]
  },
  {
   "cell_type": "code",
   "execution_count": null,
   "id": "459d047a",
   "metadata": {},
   "outputs": [],
   "source": [
    "with urlopen('https://raw.githubusercontent.com/plotly/datasets/master/geojson-counties-fips.json') as response:\n",
    "    counties = json.load(response)"
   ]
  },
  {
   "cell_type": "code",
   "execution_count": null,
   "id": "c13bac09",
   "metadata": {},
   "outputs": [],
   "source": [
    "# Get the List of county names from the population density data\n",
    "county_names = []\n",
    "for name in population_df['CTYNAME']:\n",
    "    county_names.append(' '.join(name.split()[:-1]))"
   ]
  },
  {
   "cell_type": "code",
   "execution_count": null,
   "id": "8cf4cf15",
   "metadata": {},
   "outputs": [],
   "source": [
    "# Itterate through to get only the counties in Arizona\n",
    "features = []\n",
    "fips_list = []\n",
    "pop_list = []\n",
    "for county in range(len(counties['features'])):\n",
    "    county_name = counties['features'][county]['properties']['NAME']\n",
    "    if county_name in county_names:\n",
    "        features.append(counties['features'][county])\n",
    "        # Get the fips id\n",
    "        fips_id = counties['features'][county]['id']\n",
    "        if int(fips_id) > int('04000') and int(fips_id) < int('05000'):\n",
    "            fips_list.append(fips_id)\n",
    "            # Get the density\n",
    "            index = population_df[population_df['CTYNAME']==f'{county_name} County'].index.values[0]\n",
    "            pop_density = population_df.iloc[index]['popDensity']\n",
    "            pop_list.append(pop_density)\n",
    "# Replace the current county features with only the features for Arizona\n",
    "counties['features'] = features\n",
    "# Create dataframe of fips and coresponding population density\n",
    "df = pd.DataFrame({'fips': fips_list, 'pop': pop_list})"
   ]
  },
  {
   "cell_type": "code",
   "execution_count": null,
   "id": "76c3b54a",
   "metadata": {
    "scrolled": true
   },
   "outputs": [],
   "source": [
    "# Plot county population density data in Arizona\n",
    "fig = px.choropleth(df, geojson=counties, locations='fips', color='pop',\n",
    "                           color_continuous_scale=\"Viridis\",\n",
    "                           range_color=(0, 30),\n",
    "                           labels={'pop':'Population Density',\n",
    "                                  'fips' : 'FIPS'},\n",
    "                           title = \"Population Density vs College and Trade School Locations\"\n",
    "                          )\n",
    "# Fit to only the counties that we drew\n",
    "fig.update_geos(fitbounds=\"locations\", visible=False)\n",
    "\n",
    "\n",
    "#Add scatter plot of school districts\n",
    "fig.add_trace(go.Scattergeo(\n",
    "        lon = arizona_only[\"X\"],\n",
    "        lat = arizona_only[\"Y\"],\n",
    "        mode = 'markers',\n",
    "        hovertext = arizona_only[\"NAME\"],\n",
    "        marker_color = 'rgb(0, 0, 0)'\n",
    "        ))\n",
    "fig.write_image(\"pop_density_vs_higher_education.jpeg\") \n",
    "fig.show()"
   ]
  },
  {
   "cell_type": "code",
   "execution_count": null,
   "id": "c606a22e",
   "metadata": {},
   "outputs": [],
   "source": []
  },
  {
   "cell_type": "code",
   "execution_count": null,
   "id": "bc378921",
   "metadata": {},
   "outputs": [],
   "source": []
  }
 ],
 "metadata": {
  "kernelspec": {
   "display_name": "Python 3",
   "language": "python",
   "name": "python3"
  },
  "language_info": {
   "codemirror_mode": {
    "name": "ipython",
    "version": 3
   },
   "file_extension": ".py",
   "mimetype": "text/x-python",
   "name": "python",
   "nbconvert_exporter": "python",
   "pygments_lexer": "ipython3",
   "version": "3.7.10"
  }
 },
 "nbformat": 4,
 "nbformat_minor": 5
}
